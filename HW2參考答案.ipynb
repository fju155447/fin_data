{
 "cells": [
  {
   "attachments": {},
   "cell_type": "markdown",
   "id": "89269e2c-35c6-449c-91e8-ff5d26497b5a",
   "metadata": {},
   "source": [
    "從TEJ 或 Yahoo Finance 挑10檔股票，下載2020-2023年後的日資料，分別存成csv檔 (如2330.csv)，上傳到GitHub\r\n",
    "利用迴圈或函式下載小組成員GitHub上所有的股票\r\n",
    "將執行後的.ipynb檔上傳到GitHub，將連結貼在TronClass 4/18作\n",
    "\n",
    "\n",
    "\n",
    "\n",
    "業區"
   ]
  },
  {
   "cell_type": "markdown",
   "id": "586261a7-b312-4b6c-a906-e821a6f8e952",
   "metadata": {},
   "source": [
    "(1) 以下為迴圈的寫法，為簡單起見，只抓取 \"2330.TW\", \"2317.TW\", \"2454.TW\" 三檔股票"
   ]
  },
  {
   "cell_type": "code",
   "execution_count": 18,
   "id": "4e47a947-bd4f-46d9-8d73-52265a9e1533",
   "metadata": {},
   "outputs": [
    {
     "name": "stdout",
     "output_type": "stream",
     "text": [
      "[*********************100%%**********************]  1 of 1 completed\n",
      "[*********************100%%**********************]  1 of 1 completed\n",
      "[*********************100%%**********************]  1 of 1 completed\n"
     ]
    }
   ],
   "source": [
    "import yfinance as yf\n",
    "\n",
    "list = [\"2330.TW\", \"2317.TW\", \"2454.TW\"]\n",
    "\n",
    "for i in list:\n",
    "    df = yf.download(i,\"2020-01-01\", \"2023-12-31\")\n",
    "    df.to_csv(\"d:\\\\fin_data\\\\\"+ i +\".csv\")"
   ]
  },
  {
   "cell_type": "code",
   "execution_count": null,
   "id": "e7e33118-79fd-4287-9dbc-7b7cd998b9dd",
   "metadata": {},
   "outputs": [],
   "source": [
    "(2) 以下為函式寫法，先定義自己的函示，再呼叫"
   ]
  },
  {
   "cell_type": "code",
   "execution_count": 15,
   "id": "90aabf0a-5240-4f54-b8d9-535f1afd5f35",
   "metadata": {},
   "outputs": [],
   "source": [
    "def download_yf(i):\n",
    "    df = yf.download(i,\"2020-01-01\", \"2023-12-31\")\n",
    "    df.to_csv(\"d:\\\\fin_data\\\\\"+ i +\".csv\")"
   ]
  },
  {
   "cell_type": "code",
   "execution_count": 16,
   "id": "2edd5b6d-f758-4790-9a75-81fa66f3879d",
   "metadata": {},
   "outputs": [
    {
     "name": "stdout",
     "output_type": "stream",
     "text": [
      "[*********************100%%**********************]  1 of 1 completed\n",
      "[*********************100%%**********************]  1 of 1 completed\n",
      "[*********************100%%**********************]  1 of 1 completed\n"
     ]
    }
   ],
   "source": [
    "download_yf(\"2330.TW\")\n",
    "download_yf(\"2317.TW\")\n",
    "download_yf(\"2454.TW\")"
   ]
  },
  {
   "attachments": {},
   "cell_type": "markdown",
   "id": "2d118845-03a2-4b57-bc55-5a1793b6019f",
   "metadata": {},
   "source": [
    "\n",
    "\n",
    "\n",
    "\n",
    "以上為從Yahoo Finance下載個股資訊，假如我們將資料上傳到 GitHub 上，使用者名稱為fju155447 資料夾名稱為fin_data\n",
    "\n",
    "\n",
    "0)\r\n"
   ]
  },
  {
   "cell_type": "markdown",
   "id": "f4112b5a-eeac-4aef-a6bc-f0e0bc1792e9",
   "metadata": {},
   "source": [
    "(1)以下為迴圈下載GitHub資料的寫法"
   ]
  },
  {
   "cell_type": "code",
   "execution_count": 17,
   "id": "002a8bc1-8585-4303-ba73-84fe8b574650",
   "metadata": {},
   "outputs": [
    {
     "data": {
      "text/html": [
       "<div>\n",
       "<style scoped>\n",
       "    .dataframe tbody tr th:only-of-type {\n",
       "        vertical-align: middle;\n",
       "    }\n",
       "\n",
       "    .dataframe tbody tr th {\n",
       "        vertical-align: top;\n",
       "    }\n",
       "\n",
       "    .dataframe thead th {\n",
       "        text-align: right;\n",
       "    }\n",
       "</style>\n",
       "<table border=\"1\" class=\"dataframe\">\n",
       "  <thead>\n",
       "    <tr style=\"text-align: right;\">\n",
       "      <th></th>\n",
       "      <th>Open</th>\n",
       "      <th>High</th>\n",
       "      <th>Low</th>\n",
       "      <th>Close</th>\n",
       "      <th>Adj Close</th>\n",
       "      <th>Volume</th>\n",
       "    </tr>\n",
       "    <tr>\n",
       "      <th>Date</th>\n",
       "      <th></th>\n",
       "      <th></th>\n",
       "      <th></th>\n",
       "      <th></th>\n",
       "      <th></th>\n",
       "      <th></th>\n",
       "    </tr>\n",
       "  </thead>\n",
       "  <tbody>\n",
       "    <tr>\n",
       "      <th>2020-01-02</th>\n",
       "      <td>332.5</td>\n",
       "      <td>339.0</td>\n",
       "      <td>332.5</td>\n",
       "      <td>339.0</td>\n",
       "      <td>308.986359</td>\n",
       "      <td>31754120</td>\n",
       "    </tr>\n",
       "    <tr>\n",
       "      <th>2020-01-03</th>\n",
       "      <td>344.0</td>\n",
       "      <td>345.0</td>\n",
       "      <td>335.5</td>\n",
       "      <td>339.5</td>\n",
       "      <td>309.442047</td>\n",
       "      <td>41811268</td>\n",
       "    </tr>\n",
       "    <tr>\n",
       "      <th>2020-01-06</th>\n",
       "      <td>333.0</td>\n",
       "      <td>334.5</td>\n",
       "      <td>332.0</td>\n",
       "      <td>332.0</td>\n",
       "      <td>302.606049</td>\n",
       "      <td>45343057</td>\n",
       "    </tr>\n",
       "    <tr>\n",
       "      <th>2020-01-07</th>\n",
       "      <td>332.5</td>\n",
       "      <td>333.0</td>\n",
       "      <td>326.5</td>\n",
       "      <td>329.5</td>\n",
       "      <td>300.327393</td>\n",
       "      <td>50879181</td>\n",
       "    </tr>\n",
       "    <tr>\n",
       "      <th>2020-01-08</th>\n",
       "      <td>325.0</td>\n",
       "      <td>333.0</td>\n",
       "      <td>325.0</td>\n",
       "      <td>329.5</td>\n",
       "      <td>300.327393</td>\n",
       "      <td>37567748</td>\n",
       "    </tr>\n",
       "  </tbody>\n",
       "</table>\n",
       "</div>"
      ],
      "text/plain": [
       "             Open   High    Low  Close   Adj Close    Volume\n",
       "Date                                                        \n",
       "2020-01-02  332.5  339.0  332.5  339.0  308.986359  31754120\n",
       "2020-01-03  344.0  345.0  335.5  339.5  309.442047  41811268\n",
       "2020-01-06  333.0  334.5  332.0  332.0  302.606049  45343057\n",
       "2020-01-07  332.5  333.0  326.5  329.5  300.327393  50879181\n",
       "2020-01-08  325.0  333.0  325.0  329.5  300.327393  37567748"
      ]
     },
     "metadata": {},
     "output_type": "display_data"
    },
    {
     "data": {
      "text/html": [
       "<div>\n",
       "<style scoped>\n",
       "    .dataframe tbody tr th:only-of-type {\n",
       "        vertical-align: middle;\n",
       "    }\n",
       "\n",
       "    .dataframe tbody tr th {\n",
       "        vertical-align: top;\n",
       "    }\n",
       "\n",
       "    .dataframe thead th {\n",
       "        text-align: right;\n",
       "    }\n",
       "</style>\n",
       "<table border=\"1\" class=\"dataframe\">\n",
       "  <thead>\n",
       "    <tr style=\"text-align: right;\">\n",
       "      <th></th>\n",
       "      <th>Open</th>\n",
       "      <th>High</th>\n",
       "      <th>Low</th>\n",
       "      <th>Close</th>\n",
       "      <th>Adj Close</th>\n",
       "      <th>Volume</th>\n",
       "    </tr>\n",
       "    <tr>\n",
       "      <th>Date</th>\n",
       "      <th></th>\n",
       "      <th></th>\n",
       "      <th></th>\n",
       "      <th></th>\n",
       "      <th></th>\n",
       "      <th></th>\n",
       "    </tr>\n",
       "  </thead>\n",
       "  <tbody>\n",
       "    <tr>\n",
       "      <th>2020-01-02</th>\n",
       "      <td>91.000000</td>\n",
       "      <td>91.500000</td>\n",
       "      <td>90.300003</td>\n",
       "      <td>90.800003</td>\n",
       "      <td>75.553642</td>\n",
       "      <td>20758722</td>\n",
       "    </tr>\n",
       "    <tr>\n",
       "      <th>2020-01-03</th>\n",
       "      <td>91.400002</td>\n",
       "      <td>92.199997</td>\n",
       "      <td>90.800003</td>\n",
       "      <td>91.599998</td>\n",
       "      <td>76.219315</td>\n",
       "      <td>37936877</td>\n",
       "    </tr>\n",
       "    <tr>\n",
       "      <th>2020-01-06</th>\n",
       "      <td>91.099998</td>\n",
       "      <td>91.099998</td>\n",
       "      <td>90.099998</td>\n",
       "      <td>90.500000</td>\n",
       "      <td>75.304016</td>\n",
       "      <td>26352522</td>\n",
       "    </tr>\n",
       "    <tr>\n",
       "      <th>2020-01-07</th>\n",
       "      <td>90.500000</td>\n",
       "      <td>91.000000</td>\n",
       "      <td>88.300003</td>\n",
       "      <td>89.099998</td>\n",
       "      <td>74.139099</td>\n",
       "      <td>42728140</td>\n",
       "    </tr>\n",
       "    <tr>\n",
       "      <th>2020-01-08</th>\n",
       "      <td>87.900002</td>\n",
       "      <td>88.099998</td>\n",
       "      <td>86.500000</td>\n",
       "      <td>86.500000</td>\n",
       "      <td>71.975670</td>\n",
       "      <td>56101121</td>\n",
       "    </tr>\n",
       "  </tbody>\n",
       "</table>\n",
       "</div>"
      ],
      "text/plain": [
       "                 Open       High        Low      Close  Adj Close    Volume\n",
       "Date                                                                       \n",
       "2020-01-02  91.000000  91.500000  90.300003  90.800003  75.553642  20758722\n",
       "2020-01-03  91.400002  92.199997  90.800003  91.599998  76.219315  37936877\n",
       "2020-01-06  91.099998  91.099998  90.099998  90.500000  75.304016  26352522\n",
       "2020-01-07  90.500000  91.000000  88.300003  89.099998  74.139099  42728140\n",
       "2020-01-08  87.900002  88.099998  86.500000  86.500000  71.975670  56101121"
      ]
     },
     "metadata": {},
     "output_type": "display_data"
    },
    {
     "data": {
      "text/html": [
       "<div>\n",
       "<style scoped>\n",
       "    .dataframe tbody tr th:only-of-type {\n",
       "        vertical-align: middle;\n",
       "    }\n",
       "\n",
       "    .dataframe tbody tr th {\n",
       "        vertical-align: top;\n",
       "    }\n",
       "\n",
       "    .dataframe thead th {\n",
       "        text-align: right;\n",
       "    }\n",
       "</style>\n",
       "<table border=\"1\" class=\"dataframe\">\n",
       "  <thead>\n",
       "    <tr style=\"text-align: right;\">\n",
       "      <th></th>\n",
       "      <th>Open</th>\n",
       "      <th>High</th>\n",
       "      <th>Low</th>\n",
       "      <th>Close</th>\n",
       "      <th>Adj Close</th>\n",
       "      <th>Volume</th>\n",
       "    </tr>\n",
       "    <tr>\n",
       "      <th>Date</th>\n",
       "      <th></th>\n",
       "      <th></th>\n",
       "      <th></th>\n",
       "      <th></th>\n",
       "      <th></th>\n",
       "      <th></th>\n",
       "    </tr>\n",
       "  </thead>\n",
       "  <tbody>\n",
       "    <tr>\n",
       "      <th>2020-01-02</th>\n",
       "      <td>445.0</td>\n",
       "      <td>446.0</td>\n",
       "      <td>440.5</td>\n",
       "      <td>441.5</td>\n",
       "      <td>333.562164</td>\n",
       "      <td>6237434</td>\n",
       "    </tr>\n",
       "    <tr>\n",
       "      <th>2020-01-03</th>\n",
       "      <td>445.0</td>\n",
       "      <td>445.5</td>\n",
       "      <td>423.0</td>\n",
       "      <td>434.5</td>\n",
       "      <td>328.273499</td>\n",
       "      <td>12375266</td>\n",
       "    </tr>\n",
       "    <tr>\n",
       "      <th>2020-01-06</th>\n",
       "      <td>428.0</td>\n",
       "      <td>431.5</td>\n",
       "      <td>424.0</td>\n",
       "      <td>424.0</td>\n",
       "      <td>320.340576</td>\n",
       "      <td>8448516</td>\n",
       "    </tr>\n",
       "    <tr>\n",
       "      <th>2020-01-07</th>\n",
       "      <td>428.0</td>\n",
       "      <td>431.0</td>\n",
       "      <td>418.0</td>\n",
       "      <td>426.0</td>\n",
       "      <td>321.851593</td>\n",
       "      <td>11707155</td>\n",
       "    </tr>\n",
       "    <tr>\n",
       "      <th>2020-01-08</th>\n",
       "      <td>426.0</td>\n",
       "      <td>436.5</td>\n",
       "      <td>424.0</td>\n",
       "      <td>430.5</td>\n",
       "      <td>325.251465</td>\n",
       "      <td>9695448</td>\n",
       "    </tr>\n",
       "  </tbody>\n",
       "</table>\n",
       "</div>"
      ],
      "text/plain": [
       "             Open   High    Low  Close   Adj Close    Volume\n",
       "Date                                                        \n",
       "2020-01-02  445.0  446.0  440.5  441.5  333.562164   6237434\n",
       "2020-01-03  445.0  445.5  423.0  434.5  328.273499  12375266\n",
       "2020-01-06  428.0  431.5  424.0  424.0  320.340576   8448516\n",
       "2020-01-07  428.0  431.0  418.0  426.0  321.851593  11707155\n",
       "2020-01-08  426.0  436.5  424.0  430.5  325.251465   9695448"
      ]
     },
     "metadata": {},
     "output_type": "display_data"
    }
   ],
   "source": [
    "import pandas as pd\n",
    "\n",
    "\n",
    "list = [\"2330.TW\", \"2317.TW\", \"2454.TW\"]\n",
    "\n",
    "for i in list:\n",
    "    url = \"https://raw.githubusercontent.com/fju155447/fin_data/main/\"+i +\".csv\"\n",
    "    df = pd.read_csv(url, index_col=0)\n",
    "    display(df.head(5)) #顯示讀進來的資料表前五列以方便檢視"
   ]
  },
  {
   "cell_type": "markdown",
   "id": "1a158924-ba6c-4025-b126-92aeeac6d181",
   "metadata": {},
   "source": [
    "(2) 以下為函式寫法，先定義自己的函示，再呼叫"
   ]
  },
  {
   "cell_type": "code",
   "execution_count": 19,
   "id": "d8cac2be-bb91-4168-bf10-b6a08cc7ced2",
   "metadata": {},
   "outputs": [],
   "source": [
    "def download_github(i):\n",
    "    url = \"https://raw.githubusercontent.com/fju155447/fin_data/main/\"+i +\".csv\"\n",
    "    df = pd.read_csv(url, index_col=0)\n",
    "    display(df.head(5)) #顯示讀進來的資料表前五列以方便檢視"
   ]
  },
  {
   "cell_type": "code",
   "execution_count": null,
   "id": "f336fa31-53d7-4f85-9118-e837356dcb16",
   "metadata": {},
   "outputs": [],
   "source": [
    "download_yf(\"2330.TW\")\n",
    "download_yf(\"2317.TW\")\n",
    "download_yf(\"2454.TW\")"
   ]
  }
 ],
 "metadata": {
  "kernelspec": {
   "display_name": "Python 3 (ipykernel)",
   "language": "python",
   "name": "python3"
  },
  "language_info": {
   "codemirror_mode": {
    "name": "ipython",
    "version": 3
   },
   "file_extension": ".py",
   "mimetype": "text/x-python",
   "name": "python",
   "nbconvert_exporter": "python",
   "pygments_lexer": "ipython3",
   "version": "3.11.3"
  }
 },
 "nbformat": 4,
 "nbformat_minor": 5
}
